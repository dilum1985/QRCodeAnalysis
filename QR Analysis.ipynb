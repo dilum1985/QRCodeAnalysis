{
 "cells": [
  {
   "cell_type": "code",
   "execution_count": 1,
   "id": "71da5054",
   "metadata": {},
   "outputs": [],
   "source": [
    "import numpy as np\n",
    "import pandas as pd\n",
    "from scipy import stats"
   ]
  },
  {
   "cell_type": "code",
   "execution_count": 2,
   "id": "516c664a",
   "metadata": {},
   "outputs": [
    {
     "data": {
      "text/html": [
       "<div>\n",
       "<style scoped>\n",
       "    .dataframe tbody tr th:only-of-type {\n",
       "        vertical-align: middle;\n",
       "    }\n",
       "\n",
       "    .dataframe tbody tr th {\n",
       "        vertical-align: top;\n",
       "    }\n",
       "\n",
       "    .dataframe thead th {\n",
       "        text-align: right;\n",
       "    }\n",
       "</style>\n",
       "<table border=\"1\" class=\"dataframe\">\n",
       "  <thead>\n",
       "    <tr style=\"text-align: right;\">\n",
       "      <th></th>\n",
       "      <th>Year</th>\n",
       "      <th>Month</th>\n",
       "      <th>YearMonth</th>\n",
       "      <th>Fuel QR Implemented</th>\n",
       "      <th>Fuel Imports</th>\n",
       "      <th>Total Imports</th>\n",
       "      <th>NCPI Headline Inflation</th>\n",
       "      <th>GDP(Rs Million)</th>\n",
       "    </tr>\n",
       "  </thead>\n",
       "  <tbody>\n",
       "    <tr>\n",
       "      <th>0</th>\n",
       "      <td>2020</td>\n",
       "      <td>1</td>\n",
       "      <td>2020-01</td>\n",
       "      <td>QR No</td>\n",
       "      <td>291.853136</td>\n",
       "      <td>1735.327088</td>\n",
       "      <td>7.6</td>\n",
       "      <td>4165667</td>\n",
       "    </tr>\n",
       "    <tr>\n",
       "      <th>1</th>\n",
       "      <td>2020</td>\n",
       "      <td>2</td>\n",
       "      <td>2020-02</td>\n",
       "      <td>QR No</td>\n",
       "      <td>418.720322</td>\n",
       "      <td>1562.323837</td>\n",
       "      <td>8.1</td>\n",
       "      <td>4165667</td>\n",
       "    </tr>\n",
       "    <tr>\n",
       "      <th>2</th>\n",
       "      <td>2020</td>\n",
       "      <td>3</td>\n",
       "      <td>2020-03</td>\n",
       "      <td>QR No</td>\n",
       "      <td>237.658038</td>\n",
       "      <td>1205.049203</td>\n",
       "      <td>7.0</td>\n",
       "      <td>4165667</td>\n",
       "    </tr>\n",
       "    <tr>\n",
       "      <th>3</th>\n",
       "      <td>2020</td>\n",
       "      <td>4</td>\n",
       "      <td>2020-04</td>\n",
       "      <td>QR No</td>\n",
       "      <td>121.817611</td>\n",
       "      <td>1122.606963</td>\n",
       "      <td>5.9</td>\n",
       "      <td>3161022</td>\n",
       "    </tr>\n",
       "    <tr>\n",
       "      <th>4</th>\n",
       "      <td>2020</td>\n",
       "      <td>5</td>\n",
       "      <td>2020-05</td>\n",
       "      <td>QR No</td>\n",
       "      <td>62.899183</td>\n",
       "      <td>993.822813</td>\n",
       "      <td>5.2</td>\n",
       "      <td>3161022</td>\n",
       "    </tr>\n",
       "  </tbody>\n",
       "</table>\n",
       "</div>"
      ],
      "text/plain": [
       "   Year  Month YearMonth Fuel QR Implemented  Fuel Imports  Total Imports  \\\n",
       "0  2020      1   2020-01               QR No    291.853136    1735.327088   \n",
       "1  2020      2   2020-02               QR No    418.720322    1562.323837   \n",
       "2  2020      3   2020-03               QR No    237.658038    1205.049203   \n",
       "3  2020      4   2020-04               QR No    121.817611    1122.606963   \n",
       "4  2020      5   2020-05               QR No     62.899183     993.822813   \n",
       "\n",
       "   NCPI Headline Inflation  GDP(Rs Million)  \n",
       "0                      7.6          4165667  \n",
       "1                      8.1          4165667  \n",
       "2                      7.0          4165667  \n",
       "3                      5.9          3161022  \n",
       "4                      5.2          3161022  "
      ]
     },
     "execution_count": 2,
     "metadata": {},
     "output_type": "execute_result"
    }
   ],
   "source": [
    "df=pd.read_csv('FuelImport.csv')\n",
    "df.head()"
   ]
  },
  {
   "cell_type": "code",
   "execution_count": 3,
   "id": "49344128",
   "metadata": {},
   "outputs": [],
   "source": [
    "df_qr_no = df[df['Fuel QR Implemented'] == 'QR No']\n",
    "df_qr_yes = df[df['Fuel QR Implemented'] == 'QR Yes']"
   ]
  },
  {
   "cell_type": "code",
   "execution_count": 4,
   "id": "459c7588",
   "metadata": {},
   "outputs": [
    {
     "data": {
      "text/html": [
       "<div>\n",
       "<style scoped>\n",
       "    .dataframe tbody tr th:only-of-type {\n",
       "        vertical-align: middle;\n",
       "    }\n",
       "\n",
       "    .dataframe tbody tr th {\n",
       "        vertical-align: top;\n",
       "    }\n",
       "\n",
       "    .dataframe thead th {\n",
       "        text-align: right;\n",
       "    }\n",
       "</style>\n",
       "<table border=\"1\" class=\"dataframe\">\n",
       "  <thead>\n",
       "    <tr style=\"text-align: right;\">\n",
       "      <th></th>\n",
       "      <th>Year</th>\n",
       "      <th>Month</th>\n",
       "      <th>YearMonth</th>\n",
       "      <th>Fuel QR Implemented</th>\n",
       "      <th>Fuel Imports</th>\n",
       "      <th>Total Imports</th>\n",
       "      <th>NCPI Headline Inflation</th>\n",
       "      <th>GDP(Rs Million)</th>\n",
       "    </tr>\n",
       "  </thead>\n",
       "  <tbody>\n",
       "    <tr>\n",
       "      <th>0</th>\n",
       "      <td>2020</td>\n",
       "      <td>1</td>\n",
       "      <td>2020-01</td>\n",
       "      <td>QR No</td>\n",
       "      <td>291.853136</td>\n",
       "      <td>1735.327088</td>\n",
       "      <td>7.6</td>\n",
       "      <td>4165667</td>\n",
       "    </tr>\n",
       "    <tr>\n",
       "      <th>1</th>\n",
       "      <td>2020</td>\n",
       "      <td>2</td>\n",
       "      <td>2020-02</td>\n",
       "      <td>QR No</td>\n",
       "      <td>418.720322</td>\n",
       "      <td>1562.323837</td>\n",
       "      <td>8.1</td>\n",
       "      <td>4165667</td>\n",
       "    </tr>\n",
       "    <tr>\n",
       "      <th>2</th>\n",
       "      <td>2020</td>\n",
       "      <td>3</td>\n",
       "      <td>2020-03</td>\n",
       "      <td>QR No</td>\n",
       "      <td>237.658038</td>\n",
       "      <td>1205.049203</td>\n",
       "      <td>7.0</td>\n",
       "      <td>4165667</td>\n",
       "    </tr>\n",
       "    <tr>\n",
       "      <th>3</th>\n",
       "      <td>2020</td>\n",
       "      <td>4</td>\n",
       "      <td>2020-04</td>\n",
       "      <td>QR No</td>\n",
       "      <td>121.817611</td>\n",
       "      <td>1122.606963</td>\n",
       "      <td>5.9</td>\n",
       "      <td>3161022</td>\n",
       "    </tr>\n",
       "    <tr>\n",
       "      <th>4</th>\n",
       "      <td>2020</td>\n",
       "      <td>5</td>\n",
       "      <td>2020-05</td>\n",
       "      <td>QR No</td>\n",
       "      <td>62.899183</td>\n",
       "      <td>993.822813</td>\n",
       "      <td>5.2</td>\n",
       "      <td>3161022</td>\n",
       "    </tr>\n",
       "  </tbody>\n",
       "</table>\n",
       "</div>"
      ],
      "text/plain": [
       "   Year  Month YearMonth Fuel QR Implemented  Fuel Imports  Total Imports  \\\n",
       "0  2020      1   2020-01               QR No    291.853136    1735.327088   \n",
       "1  2020      2   2020-02               QR No    418.720322    1562.323837   \n",
       "2  2020      3   2020-03               QR No    237.658038    1205.049203   \n",
       "3  2020      4   2020-04               QR No    121.817611    1122.606963   \n",
       "4  2020      5   2020-05               QR No     62.899183     993.822813   \n",
       "\n",
       "   NCPI Headline Inflation  GDP(Rs Million)  \n",
       "0                      7.6          4165667  \n",
       "1                      8.1          4165667  \n",
       "2                      7.0          4165667  \n",
       "3                      5.9          3161022  \n",
       "4                      5.2          3161022  "
      ]
     },
     "execution_count": 4,
     "metadata": {},
     "output_type": "execute_result"
    }
   ],
   "source": [
    "df_qr_no.head()"
   ]
  },
  {
   "cell_type": "code",
   "execution_count": 5,
   "id": "be3b2083",
   "metadata": {},
   "outputs": [
    {
     "data": {
      "text/html": [
       "<div>\n",
       "<style scoped>\n",
       "    .dataframe tbody tr th:only-of-type {\n",
       "        vertical-align: middle;\n",
       "    }\n",
       "\n",
       "    .dataframe tbody tr th {\n",
       "        vertical-align: top;\n",
       "    }\n",
       "\n",
       "    .dataframe thead th {\n",
       "        text-align: right;\n",
       "    }\n",
       "</style>\n",
       "<table border=\"1\" class=\"dataframe\">\n",
       "  <thead>\n",
       "    <tr style=\"text-align: right;\">\n",
       "      <th></th>\n",
       "      <th>Year</th>\n",
       "      <th>Month</th>\n",
       "      <th>YearMonth</th>\n",
       "      <th>Fuel QR Implemented</th>\n",
       "      <th>Fuel Imports</th>\n",
       "      <th>Total Imports</th>\n",
       "      <th>NCPI Headline Inflation</th>\n",
       "      <th>GDP(Rs Million)</th>\n",
       "    </tr>\n",
       "  </thead>\n",
       "  <tbody>\n",
       "    <tr>\n",
       "      <th>31</th>\n",
       "      <td>2022</td>\n",
       "      <td>8</td>\n",
       "      <td>2022-08</td>\n",
       "      <td>QR Yes</td>\n",
       "      <td>388.573388</td>\n",
       "      <td>1485.870236</td>\n",
       "      <td>70.2</td>\n",
       "      <td>6586602</td>\n",
       "    </tr>\n",
       "    <tr>\n",
       "      <th>32</th>\n",
       "      <td>2022</td>\n",
       "      <td>9</td>\n",
       "      <td>2022-09</td>\n",
       "      <td>QR Yes</td>\n",
       "      <td>376.433568</td>\n",
       "      <td>1284.363139</td>\n",
       "      <td>73.7</td>\n",
       "      <td>6586602</td>\n",
       "    </tr>\n",
       "    <tr>\n",
       "      <th>33</th>\n",
       "      <td>2022</td>\n",
       "      <td>10</td>\n",
       "      <td>2022-10</td>\n",
       "      <td>QR Yes</td>\n",
       "      <td>396.536631</td>\n",
       "      <td>1335.665026</td>\n",
       "      <td>70.6</td>\n",
       "      <td>6575456</td>\n",
       "    </tr>\n",
       "    <tr>\n",
       "      <th>34</th>\n",
       "      <td>2022</td>\n",
       "      <td>11</td>\n",
       "      <td>2022-11</td>\n",
       "      <td>QR Yes</td>\n",
       "      <td>422.371096</td>\n",
       "      <td>1444.564150</td>\n",
       "      <td>65.0</td>\n",
       "      <td>6575456</td>\n",
       "    </tr>\n",
       "    <tr>\n",
       "      <th>35</th>\n",
       "      <td>2022</td>\n",
       "      <td>12</td>\n",
       "      <td>2022-12</td>\n",
       "      <td>QR Yes</td>\n",
       "      <td>383.549027</td>\n",
       "      <td>1425.563354</td>\n",
       "      <td>59.2</td>\n",
       "      <td>6575456</td>\n",
       "    </tr>\n",
       "  </tbody>\n",
       "</table>\n",
       "</div>"
      ],
      "text/plain": [
       "    Year  Month YearMonth Fuel QR Implemented  Fuel Imports  Total Imports  \\\n",
       "31  2022      8   2022-08              QR Yes    388.573388    1485.870236   \n",
       "32  2022      9   2022-09              QR Yes    376.433568    1284.363139   \n",
       "33  2022     10   2022-10              QR Yes    396.536631    1335.665026   \n",
       "34  2022     11   2022-11              QR Yes    422.371096    1444.564150   \n",
       "35  2022     12   2022-12              QR Yes    383.549027    1425.563354   \n",
       "\n",
       "    NCPI Headline Inflation  GDP(Rs Million)  \n",
       "31                     70.2          6586602  \n",
       "32                     73.7          6586602  \n",
       "33                     70.6          6575456  \n",
       "34                     65.0          6575456  \n",
       "35                     59.2          6575456  "
      ]
     },
     "execution_count": 5,
     "metadata": {},
     "output_type": "execute_result"
    }
   ],
   "source": [
    "df_qr_yes.head()"
   ]
  },
  {
   "cell_type": "code",
   "execution_count": 6,
   "id": "5325ad50",
   "metadata": {},
   "outputs": [],
   "source": [
    "inflation_with_qr_no = df_qr_no['NCPI Headline Inflation'].tolist()\n",
    "inflation_with_qr_yes = df_qr_yes['NCPI Headline Inflation'].tolist()"
   ]
  },
  {
   "cell_type": "code",
   "execution_count": 7,
   "id": "6e68c50f",
   "metadata": {},
   "outputs": [
    {
     "name": "stdout",
     "output_type": "stream",
     "text": [
      "[7.6, 8.1, 7.0, 5.9, 5.2, 6.3, 6.1, 6.2, 6.4, 5.5, 5.2, 4.6, 3.7, 4.2, 5.1, 5.5, 6.1, 6.1, 6.8, 6.7, 6.2, 8.3, 11.1, 14.0, 16.8, 17.5, 21.5, 33.8, 45.3, 58.9, 66.7]\n"
     ]
    }
   ],
   "source": [
    "print(inflation_with_qr_no)"
   ]
  },
  {
   "cell_type": "code",
   "execution_count": 8,
   "id": "fde2c08a",
   "metadata": {},
   "outputs": [
    {
     "name": "stdout",
     "output_type": "stream",
     "text": [
      "[70.2, 73.7, 70.6, 65.0, 59.2, 53.2, 53.6, 49.2, 33.6, 22.1, 10.8, 4.6, 2.1]\n"
     ]
    }
   ],
   "source": [
    "print(inflation_with_qr_yes)"
   ]
  },
  {
   "cell_type": "code",
   "execution_count": 9,
   "id": "140e37b0",
   "metadata": {},
   "outputs": [
    {
     "name": "stdout",
     "output_type": "stream",
     "text": [
      "T-statistic: -4.708332736970968\n",
      "P-value: 2.7285304832319547e-05\n"
     ]
    }
   ],
   "source": [
    "# Perform the t-test\n",
    "t_statistic, p_value = stats.ttest_ind(inflation_with_qr_no, inflation_with_qr_yes)\n",
    "\n",
    "# Print the results\n",
    "print(\"T-statistic:\", t_statistic)\n",
    "print(\"P-value:\", p_value)\n"
   ]
  },
  {
   "cell_type": "code",
   "execution_count": 10,
   "id": "0fbf0e75",
   "metadata": {},
   "outputs": [],
   "source": [
    "gdp_with_qr_no = df_qr_no['GDP(Rs Million)'].tolist()\n",
    "gdp_with_qr_yes = df_qr_yes['GDP(Rs Million)'].tolist()"
   ]
  },
  {
   "cell_type": "code",
   "execution_count": 11,
   "id": "6d0110b4",
   "metadata": {},
   "outputs": [
    {
     "name": "stdout",
     "output_type": "stream",
     "text": [
      "[4165667, 4165667, 4165667, 3161022, 3161022, 3161022, 4227547, 4227547, 4227547, 4117300, 4117300, 4117300, 4592330, 4592330, 4592330, 3887480, 3887480, 3887480, 4395880, 4395880, 4395880, 4724501, 4724501, 4724501, 5543306, 5543306, 5543306, 5442362, 5442362, 5442362, 6586602]\n"
     ]
    }
   ],
   "source": [
    "print(gdp_with_qr_no)"
   ]
  },
  {
   "cell_type": "code",
   "execution_count": 12,
   "id": "7cc345bd",
   "metadata": {},
   "outputs": [
    {
     "name": "stdout",
     "output_type": "stream",
     "text": [
      "[6586602, 6586602, 6575456, 6575456, 6575456, 7328574, 7328574, 7328574, 6145452, 6145452, 6145452, 6145452, 6145452]\n"
     ]
    }
   ],
   "source": [
    "print(gdp_with_qr_yes)"
   ]
  },
  {
   "cell_type": "code",
   "execution_count": 13,
   "id": "610e01fa",
   "metadata": {},
   "outputs": [
    {
     "name": "stdout",
     "output_type": "stream",
     "text": [
      "T-statistic: -9.028069444025574\n",
      "P-value: 2.1667607407609224e-11\n"
     ]
    }
   ],
   "source": [
    "# Perform the t-test\n",
    "t_statistic, p_value = stats.ttest_ind(gdp_with_qr_no, gdp_with_qr_yes)\n",
    "\n",
    "# Print the results\n",
    "print(\"T-statistic:\", t_statistic)\n",
    "print(\"P-value:\", p_value)"
   ]
  },
  {
   "cell_type": "code",
   "execution_count": 14,
   "id": "7482a869",
   "metadata": {},
   "outputs": [],
   "source": [
    "FuelImports_with_qr_no = df_qr_no['Fuel Imports'].tolist()\n",
    "FuelImports_with_qr_yes = df_qr_yes['Fuel Imports'].tolist()"
   ]
  },
  {
   "cell_type": "code",
   "execution_count": 15,
   "id": "df7f9fd2",
   "metadata": {},
   "outputs": [
    {
     "name": "stdout",
     "output_type": "stream",
     "text": [
      "[291.8531364, 418.7203216, 237.6580377, 121.8176107, 62.89918273, 110.4490978, 200.2948241, 247.5143625, 213.9530829, 223.4165005, 178.9215452, 235.0828118, 309.8443069, 320.1593754, 347.1508404, 413.1793232, 330.5391716, 66.28857421, 256.0488529, 352.67379, 200.9496504, 384.9822222, 318.5596593, 442.4838331, 430.3072287, 462.15223, 519.8465793, 510.1150285, 461.4230284, 200.09369, 345.375297]\n"
     ]
    }
   ],
   "source": [
    "print(FuelImports_with_qr_no)"
   ]
  },
  {
   "cell_type": "code",
   "execution_count": 16,
   "id": "125ab252",
   "metadata": {},
   "outputs": [
    {
     "name": "stdout",
     "output_type": "stream",
     "text": [
      "[388.5733882, 376.4335678, 396.5366305, 422.3710963, 383.5490271, 516.5039395, 204.2710194, 391.0504143, 523.2679662, 429.7564375, 289.9998326, 381.0154467, 343.6819026]\n"
     ]
    }
   ],
   "source": [
    "print(FuelImports_with_qr_yes)"
   ]
  },
  {
   "cell_type": "code",
   "execution_count": 17,
   "id": "8ab05fd0",
   "metadata": {},
   "outputs": [
    {
     "name": "stdout",
     "output_type": "stream",
     "text": [
      "T-statistic: -2.390512756985553\n",
      "P-value: 0.021385704552382305\n"
     ]
    }
   ],
   "source": [
    "# Perform the t-test\n",
    "t_statistic, p_value = stats.ttest_ind(FuelImports_with_qr_no, FuelImports_with_qr_yes)\n",
    "\n",
    "# Print the results\n",
    "print(\"T-statistic:\", t_statistic)\n",
    "print(\"P-value:\", p_value)"
   ]
  },
  {
   "cell_type": "code",
   "execution_count": null,
   "id": "c5f9cc0e",
   "metadata": {},
   "outputs": [],
   "source": []
  }
 ],
 "metadata": {
  "kernelspec": {
   "display_name": "Python 3 (ipykernel)",
   "language": "python",
   "name": "python3"
  },
  "language_info": {
   "codemirror_mode": {
    "name": "ipython",
    "version": 3
   },
   "file_extension": ".py",
   "mimetype": "text/x-python",
   "name": "python",
   "nbconvert_exporter": "python",
   "pygments_lexer": "ipython3",
   "version": "3.11.6"
  }
 },
 "nbformat": 4,
 "nbformat_minor": 5
}
